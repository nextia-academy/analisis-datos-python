{
 "cells": [
  {
   "cell_type": "markdown",
   "metadata": {},
   "source": [
    "# Numpy Avanzado\n",
    "\n",
    "## Obtener los índices de los elementos que satisfagan una condición\n",
    "Hemos trabajado con indexación booleana, sin embargo, a veces será útil obtener los índices de elementos que cumplan con alguna condición.\n",
    "\n",
    "La función `np.where` ubica las posiciones de un arreglo en donde la condición es verdadera. Veamos"
   ]
  },
  {
   "cell_type": "code",
   "execution_count": 1,
   "metadata": {},
   "outputs": [],
   "source": [
    "import numpy as np"
   ]
  },
  {
   "cell_type": "code",
   "execution_count": 2,
   "metadata": {},
   "outputs": [
    {
     "name": "stdout",
     "output_type": "stream",
     "text": [
      "Arreglo:  [8 8 3 7 7 0 4 2 5 2]\n"
     ]
    }
   ],
   "source": [
    "arr_rand = np.array([8, 8, 3, 7, 7, 0, 4, 2, 5, 2])\n",
    "print(\"Arreglo: \", arr_rand)"
   ]
  },
  {
   "cell_type": "code",
   "execution_count": 5,
   "metadata": {},
   "outputs": [
    {
     "name": "stdout",
     "output_type": "stream",
     "text": [
      "Posiciones en donde el valor > 5: (array([0, 1, 3, 4]),)\n"
     ]
    }
   ],
   "source": [
    "# Obtener índices (posiciones) en los que el valor sea > 5\n",
    "indices_mayores_5 = np.where(arr_rand > 5)\n",
    "print(\"Posiciones en donde el valor > 5:\",indices_mayores_5)"
   ]
  },
  {
   "cell_type": "markdown",
   "metadata": {},
   "source": [
    "Ya que tenemos los índices, podemos extraer los elementos usando `take`"
   ]
  },
  {
   "cell_type": "code",
   "execution_count": 7,
   "metadata": {},
   "outputs": [
    {
     "data": {
      "text/plain": [
       "array([[8, 8, 7, 7]])"
      ]
     },
     "execution_count": 7,
     "metadata": {},
     "output_type": "execute_result"
    }
   ],
   "source": [
    "arr_rand.take(indices_mayores_5)"
   ]
  },
  {
   "cell_type": "markdown",
   "metadata": {},
   "source": [
    "O bien, usamos el vector `indices_mayores_5` para indexar el arreglo"
   ]
  },
  {
   "cell_type": "code",
   "execution_count": 8,
   "metadata": {},
   "outputs": [
    {
     "data": {
      "text/plain": [
       "array([8, 8, 7, 7])"
      ]
     },
     "execution_count": 8,
     "metadata": {},
     "output_type": "execute_result"
    }
   ],
   "source": [
    "arr_rand[indices_mayores_5]"
   ]
  },
  {
   "cell_type": "markdown",
   "metadata": {},
   "source": [
    "Obtengamos las posiciones de los valores máximo y mínimo dell arreglo"
   ]
  },
  {
   "cell_type": "code",
   "execution_count": 10,
   "metadata": {},
   "outputs": [
    {
     "name": "stdout",
     "output_type": "stream",
     "text": [
      "Posición del elemento más grande (max): 0\n",
      "Posición del elemento más chico  (min): 5\n"
     ]
    }
   ],
   "source": [
    "print(\"Posición del elemento más grande (max):\", np.argmax(arr_rand))\n",
    "print(\"Posición del elemento más chico  (min):\", np.argmin(arr_rand))"
   ]
  },
  {
   "cell_type": "markdown",
   "metadata": {},
   "source": [
    "\n",
    "---\n",
    "\n",
    "\n",
    "## Importar y exportar datos de archivos CSV\n",
    "Una manera muy habitual de importar conjuntos de datos (les llamaremos **datasets** a partir de ahora) es usando la función `np.genfromtxt`. Con esta función podemos importar datos de URL's de internet o archivos en nuestra computadora, gestionar los valores faltantes, especificar cómo están delimitados los datos, entre otros.\n",
    "\n",
    "Una versión menos moldeable de esta función es `np.loadtxt`, la cual asume que no hay valores faltantes en el dataset.\n",
    "\n",
    "Descarguemos un archivo csv a un numpy array."
   ]
  },
  {
   "cell_type": "code",
   "execution_count": 13,
   "metadata": {},
   "outputs": [
    {
     "data": {
      "text/plain": [
       "array([[ 1.800e+01,  8.000e+00,  3.070e+02,  1.300e+02,  3.504e+03,\n",
       "         1.200e+01,  7.000e+01,  1.000e+00, -9.990e+02],\n",
       "       [ 1.500e+01,  8.000e+00,  3.500e+02,  1.650e+02,  3.693e+03,\n",
       "         1.150e+01,  7.000e+01,  1.000e+00, -9.990e+02],\n",
       "       [ 1.800e+01,  8.000e+00,  3.180e+02,  1.500e+02,  3.436e+03,\n",
       "         1.100e+01,  7.000e+01,  1.000e+00, -9.990e+02]])"
      ]
     },
     "execution_count": 13,
     "metadata": {},
     "output_type": "execute_result"
    }
   ],
   "source": [
    "ruta_url = 'https://raw.githubusercontent.com/selva86/datasets/master/Auto.csv'\n",
    "data = np.genfromtxt(ruta_url, delimiter=',', skip_header=1, filling_values=-999, dtype='float')\n",
    "data[:3]"
   ]
  },
  {
   "cell_type": "code",
   "execution_count": 15,
   "metadata": {},
   "outputs": [
    {
     "data": {
      "text/plain": [
       "array([[  18. ,    8. ,  307. ,  130. , 3504. ,   12. ,   70. ,    1. ,\n",
       "        -999. ],\n",
       "       [  15. ,    8. ,  350. ,  165. , 3693. ,   11.5,   70. ,    1. ,\n",
       "        -999. ],\n",
       "       [  18. ,    8. ,  318. ,  150. , 3436. ,   11. ,   70. ,    1. ,\n",
       "        -999. ]])"
      ]
     },
     "execution_count": 15,
     "metadata": {},
     "output_type": "execute_result"
    }
   ],
   "source": [
    "#apagar la notación científica\n",
    "np.set_printoptions(suppress=True)\n",
    "ruta_url = 'https://raw.githubusercontent.com/selva86/datasets/master/Auto.csv'\n",
    "data = np.genfromtxt(ruta_url, delimiter=',', skip_header=1, filling_values=-999, dtype='float')\n",
    "data[:3]"
   ]
  },
  {
   "cell_type": "markdown",
   "metadata": {},
   "source": [
    "**Nota: Recordemos que todos los valores de un numpy array deben ser del mismo tipo de dato. Si vemos el archivo Auto.csv en el navegador, veremos que la última columna (name) es de tipo string, y por lo tanto, numpy iba a imporar este valor como np.nan por defecto. Para evitar esto, utilizamos el parámetro `fillin_values` y le asignamos el valor -999 para que coloque un -999 en todos los valores en los que hubiera colocado nan**\n",
    "\n",
    "¿Cómo hacemos cuando queremos que nuestro arreglo contenga números y texto?\n",
    "En este caso, debemos especificar que el tipo de dato es `object` o `None`"
   ]
  },
  {
   "cell_type": "code",
   "execution_count": 18,
   "metadata": {},
   "outputs": [
    {
     "data": {
      "text/plain": [
       "array([(18., 8, 307., 130, 3504, 12. , 70, 1, '\"chevrolet chevelle malibu\"'),\n",
       "       (15., 8, 350., 165, 3693, 11.5, 70, 1, '\"buick skylark 320\"'),\n",
       "       (18., 8, 318., 150, 3436, 11. , 70, 1, '\"plymouth satellite\"')],\n",
       "      dtype=[('f0', '<f8'), ('f1', '<i8'), ('f2', '<f8'), ('f3', '<i8'), ('f4', '<i8'), ('f5', '<f8'), ('f6', '<i8'), ('f7', '<i8'), ('f8', '<U38')])"
      ]
     },
     "execution_count": 18,
     "metadata": {},
     "output_type": "execute_result"
    }
   ],
   "source": [
    "# data2 = np.genfromtxt(path, delimiter=',', skip_header=1, dtype='object')\n",
    "data2 = np.genfromtxt(ruta_url, delimiter=',', skip_header=1, dtype=None, encoding=None)\n",
    "data2[:3]"
   ]
  },
  {
   "cell_type": "markdown",
   "metadata": {},
   "source": [
    "Súper. Ahora podemos exportar este array a un archivo csv."
   ]
  },
  {
   "cell_type": "code",
   "execution_count": 19,
   "metadata": {},
   "outputs": [],
   "source": [
    "np.savetxt(\"out.csv\", data, delimiter=\",\")"
   ]
  },
  {
   "cell_type": "markdown",
   "metadata": {},
   "source": [
    "--- \n",
    "\n",
    "## Ordenar un array por una o más columnas"
   ]
  },
  {
   "cell_type": "code",
   "execution_count": 21,
   "metadata": {},
   "outputs": [
    {
     "data": {
      "text/plain": [
       "array([[2, 3, 5, 5],\n",
       "       [3, 3, 2, 5],\n",
       "       [5, 5, 4, 3],\n",
       "       [5, 2, 4, 5],\n",
       "       [3, 4, 3, 2],\n",
       "       [2, 5, 1, 1],\n",
       "       [3, 2, 5, 5],\n",
       "       [3, 5, 4, 5]])"
      ]
     },
     "execution_count": 21,
     "metadata": {},
     "output_type": "execute_result"
    }
   ],
   "source": [
    "arr = np.random.randint(1,6, size=[8, 4])\n",
    "arr"
   ]
  },
  {
   "cell_type": "markdown",
   "metadata": {},
   "source": [
    "Tenemos un matriz de números aleatorios de 8 filas por 4 columnas.\n",
    "\n",
    "Si usamos la función `np.sort` con `axis=0`, todas las columnas se odernarán de forma ascendente (de más pequeño a más grande)"
   ]
  },
  {
   "cell_type": "code",
   "execution_count": 22,
   "metadata": {},
   "outputs": [
    {
     "data": {
      "text/plain": [
       "array([[2, 2, 1, 1],\n",
       "       [2, 2, 2, 2],\n",
       "       [3, 3, 3, 3],\n",
       "       [3, 3, 4, 5],\n",
       "       [3, 4, 4, 5],\n",
       "       [3, 5, 4, 5],\n",
       "       [5, 5, 5, 5],\n",
       "       [5, 5, 5, 5]])"
      ]
     },
     "execution_count": 22,
     "metadata": {},
     "output_type": "execute_result"
    }
   ],
   "source": [
    "np.sort(arr, axis=0)"
   ]
  },
  {
   "cell_type": "markdown",
   "metadata": {},
   "source": [
    "El problema con esto es que se ordenaron los elementos de las columnas independientes. O sea, afectamos la integridad de las filas. \n",
    "\n",
    "Nosotros no queremos esto, entonces podemos utilizar `np.argsort`\n",
    "\n",
    "---\n",
    "\n",
    "## Ordenar por una columna"
   ]
  },
  {
   "cell_type": "code",
   "execution_count": 23,
   "metadata": {},
   "outputs": [
    {
     "data": {
      "text/plain": [
       "array([[2, 3, 5, 5],\n",
       "       [3, 3, 2, 5],\n",
       "       [5, 5, 4, 3],\n",
       "       [5, 2, 4, 5],\n",
       "       [3, 4, 3, 2],\n",
       "       [2, 5, 1, 1],\n",
       "       [3, 2, 5, 5],\n",
       "       [3, 5, 4, 5]])"
      ]
     },
     "execution_count": 23,
     "metadata": {},
     "output_type": "execute_result"
    }
   ],
   "source": [
    "arr"
   ]
  },
  {
   "cell_type": "code",
   "execution_count": null,
   "metadata": {},
   "outputs": [],
   "source": []
  }
 ],
 "metadata": {
  "kernelspec": {
   "display_name": "Python 3",
   "language": "python",
   "name": "python3"
  },
  "language_info": {
   "codemirror_mode": {
    "name": "ipython",
    "version": 3
   },
   "file_extension": ".py",
   "mimetype": "text/x-python",
   "name": "python",
   "nbconvert_exporter": "python",
   "pygments_lexer": "ipython3",
   "version": "3.6.8"
  }
 },
 "nbformat": 4,
 "nbformat_minor": 2
}
