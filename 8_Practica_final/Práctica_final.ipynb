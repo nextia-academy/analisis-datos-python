{
 "cells": [
  {
   "cell_type": "markdown",
   "metadata": {},
   "source": [
    "# Análisis exploratorio del dataset Titanic\n",
    "##### Práctica final del curso de análisis de datos con Python\n",
    "Profesor: Gerardo Mathus\n",
    "\n",
    "---\n",
    "**Intrucciones: Lee cuidadosamente cada pregunta y escribe el código de Python necesario para contestar cada una.  Deberás contestar el examen en un Jupyter Notebook y, al terminar, deberás subirlo a un nuevo repositorio de github que contenga únicamente los datos a utilizar (ver liga de abajo) y el Jupyter Notebook con tus respuestas**\n",
    "\n",
    "**Nota: Todas las visualizaciones deberán hacerse con `seaborn`.**\n",
    "\n",
    "### 1. Importa los datos\n",
    "Los datos los puedes descargar [de esta liga](https://drive.google.com/file/d/1Ru9l2gfDIyOjJnaor17dOPUGii5SK4mJ/view?usp=sharing) \n",
    "\n",
    "Enlace corto: http://tiny.cc/cn9idz"
   ]
  },
  {
   "cell_type": "markdown",
   "metadata": {},
   "source": [
    "### 2. Observa las  primeras filas de los datos"
   ]
  },
  {
   "cell_type": "markdown",
   "metadata": {},
   "source": [
    "### 3. ¿Cuántas filas y columnas tiene el dataset?"
   ]
  },
  {
   "cell_type": "markdown",
   "metadata": {},
   "source": [
    "### 4. ¿Qué columnas tiene el dataset?"
   ]
  },
  {
   "cell_type": "markdown",
   "metadata": {},
   "source": [
    "### 5. Contesta las siguientes preguntas:\n",
    "    a) ¿Cuántas variables son de tipo flotante?\n",
    "    b) ¿Cuántas variables son de tipo entero?\n",
    "    c) ¿Cuántas variables son de tipo objeto (categóricas)?\n",
    "    d) ¿Qué columnas y tienen objetos en nulo o faltantes?"
   ]
  },
  {
   "cell_type": "markdown",
   "metadata": {},
   "source": [
    "### 6. Obten un resumen de estadisticos del dataset para contestar las siguientes  preguntas:\n",
    "    a) ¿Cuál era la edad promedio de los pasajeros del Titanic?\n",
    "    b) ¿De cuánto era el `fare` promedio?\n",
    "    c) ¿Cuántos pasajeros sobrevivieron?"
   ]
  },
  {
   "cell_type": "markdown",
   "metadata": {},
   "source": [
    "---\n",
    "\n",
    "## Visualizaciones\n",
    "\n",
    "### 7. Visualización para valores faltantes\n",
    "#### Una buena forma visual de observar valores faltantes en columnas es mediante un mapa de calor. Utiliza la función `heatmap` de `seaborn` con  `cmap='flag'` para graficar valores faltantes en cada columna\n",
    "#### ¿Qué puedes concluir de tu mapa de calor?"
   ]
  },
  {
   "cell_type": "markdown",
   "metadata": {},
   "source": [
    "### 8. Grafica la matriz de correlación con la función `heatmap` de `seaborn` y los argumentos `cmap='YlGnBu'` y `annot=True`. Posteriormente describe qué hace cada uno de estos argumentos.\n",
    "#### ¿Qué puedes concluir del mapa de calor de la matriz de correlación?"
   ]
  },
  {
   "cell_type": "markdown",
   "metadata": {},
   "source": [
    "---\n",
    "\n",
    "## Exploración de la variable `survived`\n",
    "La variable `survived` indica si un pasajero subrevivió la tragedia del Titanic o no.\n",
    "    * 0: No sobrevivió\n",
    "    * 1: Sí sobrevivió\n",
    "    \n",
    "### 9. Haz una gráfica de barras que muestre la cantida de pasajeros que sobreviveron y que no sobreviveron. Utiliza la paleta `'Set1'`"
   ]
  },
  {
   "cell_type": "markdown",
   "metadata": {},
   "source": [
    "### 10. Imprime el número exacto de pasajeros que sobreviveron y que no sobreviveron"
   ]
  },
  {
   "cell_type": "markdown",
   "metadata": {},
   "source": [
    "### 11. Haz una gráfica de barras de los pasajeros que sobreviveron y que no sobreviveron introducieron una tercera variable `Sex`. Utiliza la paleta `'Set2'`.\n",
    "Deberás tener 4 barras: 2 barras (male, female) para 'no sobrevivó' y 2 barras (male, female) para 'sobrevivó"
   ]
  },
  {
   "cell_type": "markdown",
   "metadata": {},
   "source": [
    "### 12. Haz una gráfica de barras de los pasajeros que sobreviveron y que no sobreviveron introducieron una tercera variable `Pclass`. Utiliza la paleta `'Set2'`.\n",
    "La variable `Pclass` indica el estatus socioeconómico del pasajero:\n",
    "- 1 $\\rightarrow$ Upper (alta)\n",
    "- 2 $\\rightarrow$ Middle (media)\n",
    "- 3 $\\rightarrow$ Lower (baja)"
   ]
  },
  {
   "cell_type": "markdown",
   "metadata": {},
   "source": [
    "### 13. Haz una gráfica de barras del número de la variable `SibSp` utilizando la paleta `'Set3'`.\n",
    "La variable `SibSp` indica la cantida de hermanos del pasajero, y si tenía o no esposo o esposa."
   ]
  },
  {
   "cell_type": "markdown",
   "metadata": {},
   "source": [
    "### 14. Haz lo mismo para la bariable `Parch`.\n",
    "Esta variable indica el número de padres o madres e hijos que viajaban con el pasajero."
   ]
  },
  {
   "cell_type": "markdown",
   "metadata": {},
   "source": [
    "### 15. Haz una gráfica de barras que muestre la cantidad de pasajeros que embarcaron en `C` (Cherbourg), `Q` (Queenstown) y `S` (Southampton). Utiliza la paleta que quieras"
   ]
  },
  {
   "cell_type": "markdown",
   "metadata": {},
   "source": [
    "### 16. Ejecuta el siguiente código y anota tus observaciones"
   ]
  },
  {
   "cell_type": "code",
   "execution_count": null,
   "metadata": {},
   "outputs": [],
   "source": [
    "sns.pairplot(data=train, hue ='Survived', diag_kind='hist', height= 3, aspect=0.7,palette='bwr')"
   ]
  },
  {
   "cell_type": "markdown",
   "metadata": {},
   "source": [
    "### 17.  Haz una gráfica de dispersión con un ajuste lineal, y después vuelve a realizar la misma gráfica pero ahora utilizando los parámetros `logistic=True` y `y_jitter=0.3`. Posteriormente describe para qué sirven estos parámetros"
   ]
  },
  {
   "cell_type": "markdown",
   "metadata": {},
   "source": [
    "### 18. Crea un histograma de la variable `Age` utilizando 10, 20,30,40 y 50 cubetas (bins)"
   ]
  },
  {
   "cell_type": "markdown",
   "metadata": {},
   "source": [
    "### 19. Crea un histograma de la variable `Fare`. Deberás utilizar la función `dropna()` para elminar valores nulos. Utiliza el color `'darkred'` y experimenta con el número de cubetas hasta que estes satisfecha."
   ]
  },
  {
   "cell_type": "markdown",
   "metadata": {},
   "source": [
    "### 20. Crea un *boxplot* de `Pclass` contra `Age` utilizando la paleta `'plasma'` y contesta las siguientes preguntas:\n",
    "Sin tomar en cuenta *outliers*:\n",
    "1. En la clase 1, ¿más o menos cuál edad mediana (cuartil 50) de los parajeros?\n",
    "2. En la clase 2, ¿más o menos cuál es la edad máxima de los pasajeros?\n",
    "3. En la clase 3, ¿más o menos cuál es la edad en el primer cuartil de los pasajeros?\n",
    "\n",
    "¿Tus hallazgos coinciden con lo que da la función `describe()` de `pandas`?"
   ]
  },
  {
   "cell_type": "markdown",
   "metadata": {},
   "source": [
    "### 21. Haz un *boxplot* de la variable `Fare` para detectar/visualizar *outliers*. Utiliza la paleta `Blues`"
   ]
  },
  {
   "cell_type": "markdown",
   "metadata": {},
   "source": [
    "### 22. Haz un *boxplot* de la variable `Age` para detectar/visualizar *outliers*. Utiliza la paleta `Blues`"
   ]
  }
 ],
 "metadata": {
  "kernelspec": {
   "display_name": "Python 3",
   "language": "python",
   "name": "python3"
  },
  "language_info": {
   "codemirror_mode": {
    "name": "ipython",
    "version": 3
   },
   "file_extension": ".py",
   "mimetype": "text/x-python",
   "name": "python",
   "nbconvert_exporter": "python",
   "pygments_lexer": "ipython3",
   "version": "3.7.4"
  }
 },
 "nbformat": 4,
 "nbformat_minor": 2
}
