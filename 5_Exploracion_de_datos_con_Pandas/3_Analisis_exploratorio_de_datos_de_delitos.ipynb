{
 "cells": [
  {
   "cell_type": "markdown",
   "metadata": {},
   "source": [
    "# Análisis exploratorio de incidencia delictiva en México\n",
    "\n",
    "## Descarga los datos\n",
    "Los datos están limpios y listos para descargar [en esta liga](https://drive.google.com/file/d/1yjeD7lH_rhs86xn0XI0fTQtc-9TYNvnA/view?usp=sharing)"
   ]
  },
  {
   "cell_type": "code",
   "execution_count": 3,
   "metadata": {},
   "outputs": [],
   "source": [
    "import pandas as pd\n",
    "import matplotlib.pyplot as  plt\n",
    "import numpy as np"
   ]
  },
  {
   "cell_type": "markdown",
   "metadata": {},
   "source": [
    "### Ejercicio 1: Conteta las siguientes  preguntas:\n",
    "1. ¿Cuántos homicidios dolosos hubo en Colima en el 2018?\n",
    "2. ¿Cuantos robos de vehículo automotor ha habido en el 2019?\n",
    "3. Obten la suma de homicidos dolosos y feminidios en toda la República Mexicana en cada año.\n",
    "4. ¿En qué mes y en qué municipio ha ocurrido el mayor número de feminicidios?\n",
    "5. ¿En qué año y en qué estado ha ocurrido el mayor número de feminicidios?\n",
    "6. ¿Cuál es el municipio de la CDMX con mayor incidencia delictiva?"
   ]
  },
  {
   "cell_type": "code",
   "execution_count": null,
   "metadata": {},
   "outputs": [],
   "source": []
  },
  {
   "cell_type": "markdown",
   "metadata": {},
   "source": [
    "### Ejercicio 2: Elige 3 estados de la república y grafica una serie de tiempo de la frecuencia abosluta de homicidios dolosos de enero 2015 a julio 2019 en estas tres entidades. Las tres líneas deberán estar en la misma figura."
   ]
  },
  {
   "cell_type": "code",
   "execution_count": null,
   "metadata": {},
   "outputs": [],
   "source": []
  },
  {
   "cell_type": "markdown",
   "metadata": {},
   "source": [
    "### Ejercicio 3: Haz una gráfica de pastel de tipos de delito. \n",
    "#### Hay muchos tipos de delito y hacer una gráfica de pastel para todos los tipos de delito se vuelve un poco contraproducente porque habrá rebanadas muy grandes y unas muy pequeñas. Por lo tanto, crea un nuevo dataframe en el cual consideres los siguientes tipos de delito:\n",
    "- Delitos cometidos por servidores públicos\n",
    "- Abuso sexual\n",
    "- Falsificación\n",
    "- Abuso de confianza\n",
    "- Despojo\n",
    "- Incumplimiento de obligaciones de asistencia familiar\n",
    "- Homicidio\n",
    "- Narcomenudeo\n",
    "- Fraude\n",
    "- Amenazas\n",
    "- Daño a la propiedad\n",
    "- Violencia familiar\n",
    "- Otros delitos del Fuero Común\n",
    "- Lesiones\n",
    "- Robo\n",
    "\n",
    "Y el resto renómbralos a \"otros\"\n",
    "\n",
    "\n",
    "Deberás crear una gráfica para cada año. Utilzia la función subplots de matplotlib."
   ]
  },
  {
   "cell_type": "code",
   "execution_count": null,
   "metadata": {},
   "outputs": [],
   "source": []
  },
  {
   "cell_type": "markdown",
   "metadata": {},
   "source": [
    "### Ejercicio 4: Calcula la tasa de incidencia delictiva\n",
    "$$\n",
    "tasa = \\frac{delitos\\space totales}{población} \\times 100,000\n",
    "$$\n",
    "\n",
    "Esta tasa la podemos anualizar multiplicándola por un factor de 12\n",
    "$$\n",
    "tasa\\space anualizada = tasa \\times 12\n",
    "$$\n",
    "\n",
    "### Población por entidad federativa según [la encuesta intercensal 2015](data/poblacion_entidades_2015.csv)\n",
    "\n",
    "\n",
    "Primero que nada, deberás tener un nuevo dataframe que tenga las columnas: entidad, clave_entidad, tipo_delito, frecuencia. \n",
    "\n",
    "A este dataframe, se le deberá agregar una nueva columna que sea la tasa. "
   ]
  },
  {
   "cell_type": "code",
   "execution_count": null,
   "metadata": {},
   "outputs": [],
   "source": []
  },
  {
   "cell_type": "markdown",
   "metadata": {},
   "source": [
    "### Ejercicio 5: Gráficas de tasa de incidencia delictiva de delitos de alto impacto\n",
    "\n",
    "Calcula la tasa de incidencia delicitva de la Ciudad de México en enero 2015. Ésta es la tasa base.\n",
    "\n",
    "Grafica la tasa de incidencia delictiva colocando el tiempo en el eje X y el cociente de la tasa en el periodo y la tasa base en el eje Y."
   ]
  },
  {
   "cell_type": "code",
   "execution_count": null,
   "metadata": {},
   "outputs": [],
   "source": []
  }
 ],
 "metadata": {
  "kernelspec": {
   "display_name": "Python 3",
   "language": "python",
   "name": "python3"
  },
  "language_info": {
   "codemirror_mode": {
    "name": "ipython",
    "version": 3
   },
   "file_extension": ".py",
   "mimetype": "text/x-python",
   "name": "python",
   "nbconvert_exporter": "python",
   "pygments_lexer": "ipython3",
   "version": "3.6.8"
  }
 },
 "nbformat": 4,
 "nbformat_minor": 2
}
