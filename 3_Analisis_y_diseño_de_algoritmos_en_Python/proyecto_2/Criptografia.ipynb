{
 "cells": [
  {
   "cell_type": "markdown",
   "metadata": {},
   "source": [
    "# Criptografía\n",
    "\n",
    "La criptografía es la ciencia que permite que exista la comunicación segura a través de códigos.\n",
    "\n",
    "En este ejercicio vamos a escribir un programa que permita encriptar y desencriptar mensajes\n",
    "\n",
    "\n",
    "---\n",
    "\n",
    "Un cipher de palabra clave (contraseña) es quizá el más simple que existe. Se forma de la siguiente manera:\n",
    "1. Escoger una palabra secreta\n",
    "~~~~\n",
    "    programacionpython\n",
    "~~~~\n",
    "2. Eliminar las letras repetidas\n",
    "~~~~\n",
    "    progamciythn\n",
    "~~~~\n",
    "3. Crear un nuevo alfabeto en el cual las  primeras letras se conforman por la palabra secreta y todas las demás por el resto del alfabeto **sin repetir las letras de la palabra secreta**.\n",
    "\n",
    "| A | B | C | D | E | F | G | H | I | J | K | L | M | N | Ñ | O | P | Q | R | S | T | U | V | W | X | Y | Z |\n",
    "|---|---|---|---|---|---|---|---|---|---|---|---|---|---|---|---|---|---|---|---|---|---|---|---|---|---|---|\n",
    "| P | R | O | G | A | M | C | I | Y | T | H | N | B | D | E | F | J | K | L | Ñ | Q | S | U | V | W | X | Z |\n",
    "\n",
    "4. Obtener el mensaje que queremos cifrar\n",
    "~~~~\n",
    "    ESTE MENSAJE ES SECRETO JIJI\n",
    "~~~~\n",
    "\n",
    "5. Mapear cada letra del mensaje al nuevo alfabeto cifrado\n",
    "~~~~\n",
    "    AÑQA BADÑPTA AÑ ÑAOLAQF TYTY\n",
    "~~~~\n",
    "\n",
    "6. Una vez que logres encriptar un mensaje, deberás programar la rutina que permita desencriptar un mensaje secreto proporcionando la llave secreta y el texto del mensaje"
   ]
  },
  {
   "cell_type": "code",
   "execution_count": null,
   "metadata": {},
   "outputs": [],
   "source": []
  }
 ],
 "metadata": {
  "kernelspec": {
   "display_name": "Python 3",
   "language": "python",
   "name": "python3"
  },
  "language_info": {
   "codemirror_mode": {
    "name": "ipython",
    "version": 3
   },
   "file_extension": ".py",
   "mimetype": "text/x-python",
   "name": "python",
   "nbconvert_exporter": "python",
   "pygments_lexer": "ipython3",
   "version": "3.6.8"
  }
 },
 "nbformat": 4,
 "nbformat_minor": 2
}
