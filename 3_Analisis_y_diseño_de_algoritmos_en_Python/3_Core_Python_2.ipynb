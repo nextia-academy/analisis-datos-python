{
 "cells": [
  {
   "cell_type": "markdown",
   "metadata": {},
   "source": [
    "## Diccionarios\n",
    "Un diccionario mapea o relaciona un conjunto de objetos a otro coonjunto de objetos. Esto no cambia en Python. Un diccionario es una estructura de datos que contiene valores únicos (llaves) a un objeto en específico (valor). Los diccionarios son estructuras mutables, lo cual significa que podemos cambiar sus llaves y valores. Ejemplo gráfico de un diccionario:\n",
    "\n",
    "| código | nombre completo |\n",
    "|--------|-----------------|\n",
    "| AUS    | Australia       |\n",
    "| COL    | Colombia        |\n",
    "| DNK    | Dinamarca       |\n",
    "| MEX    | México          |\n",
    "| PAK    | Pakistán        |\n",
    "| RUS    | Rusia           |\n",
    "\n",
    "En este caso, tenemos una llave que se llama `código` y cada llave tiene un valor asiciado `nombre completo`. Por lo tanto, si queremos saber cuál es el valor asociado a la llave `COL`, únicamente tenemoso que consultar nuestra tabla para saber que el valor es `Colombia`.\n",
    "\n",
    "Los diccionario se caracterizan por su uso de llaves `{ }` en lugar de corchetes o paréntesis"
   ]
  },
  {
   "cell_type": "code",
   "execution_count": 2,
   "metadata": {},
   "outputs": [
    {
     "data": {
      "text/plain": [
       "{}"
      ]
     },
     "execution_count": 2,
     "metadata": {},
     "output_type": "execute_result"
    }
   ],
   "source": [
    "#Crear un diccionario vacío\n",
    "diccionario = {}\n",
    "diccionario"
   ]
  },
  {
   "cell_type": "code",
   "execution_count": 3,
   "metadata": {},
   "outputs": [
    {
     "data": {
      "text/plain": [
       "{'AUS': 'Australia',\n",
       " 'COL': 'Colombia',\n",
       " 'DNK': 'Dinamarca',\n",
       " 'MEX': 'México',\n",
       " 'PAK': 'Pakistán',\n",
       " 'RUS': 'Rusia'}"
      ]
     },
     "execution_count": 3,
     "metadata": {},
     "output_type": "execute_result"
    }
   ],
   "source": [
    "#Crear diccionario con valores\n",
    "diccionario = {\n",
    "    \"AUS\": \"Australia\",\n",
    "    \"COL\": \"Colombia\",\n",
    "    \"DNK\" : \"Dinamarca\",\n",
    "    \"MEX\" : \"México\",\n",
    "    \"PAK\" : \"Pakistán\",\n",
    "    \"RUS\" : \"Rusia\",\n",
    "}\n",
    "diccionario"
   ]
  },
  {
   "cell_type": "markdown",
   "metadata": {},
   "source": [
    "Como podemos ver, los diccionarios se crean de la forma\n",
    "\n",
    "~~~~python\n",
    "nombre_diccionario = { llave1 : valor1, llave2 : valor2, llave3 : valor3 }\n",
    "~~~~"
   ]
  },
  {
   "cell_type": "markdown",
   "metadata": {},
   "source": [
    "#### Acceder a los valores a través de la llave"
   ]
  },
  {
   "cell_type": "code",
   "execution_count": 4,
   "metadata": {},
   "outputs": [
    {
     "data": {
      "text/plain": [
       "'Colombia'"
      ]
     },
     "execution_count": 4,
     "metadata": {},
     "output_type": "execute_result"
    }
   ],
   "source": [
    "diccionario['COL']"
   ]
  },
  {
   "cell_type": "code",
   "execution_count": 5,
   "metadata": {},
   "outputs": [
    {
     "data": {
      "text/plain": [
       "'México'"
      ]
     },
     "execution_count": 5,
     "metadata": {},
     "output_type": "execute_result"
    }
   ],
   "source": [
    "diccionario['MEX']"
   ]
  },
  {
   "cell_type": "code",
   "execution_count": 6,
   "metadata": {},
   "outputs": [
    {
     "data": {
      "text/plain": [
       "'Rusia'"
      ]
     },
     "execution_count": 6,
     "metadata": {},
     "output_type": "execute_result"
    }
   ],
   "source": [
    "diccionario['RUS']"
   ]
  },
  {
   "cell_type": "code",
   "execution_count": 7,
   "metadata": {},
   "outputs": [
    {
     "ename": "KeyError",
     "evalue": "'USA'",
     "output_type": "error",
     "traceback": [
      "\u001b[0;31m---------------------------------------------------------------------------\u001b[0m",
      "\u001b[0;31mKeyError\u001b[0m                                  Traceback (most recent call last)",
      "\u001b[0;32m<ipython-input-7-cabaef2911fa>\u001b[0m in \u001b[0;36m<module>\u001b[0;34m\u001b[0m\n\u001b[0;32m----> 1\u001b[0;31m \u001b[0mdiccionario\u001b[0m\u001b[0;34m[\u001b[0m\u001b[0;34m'USA'\u001b[0m\u001b[0;34m]\u001b[0m\u001b[0;34m\u001b[0m\u001b[0;34m\u001b[0m\u001b[0m\n\u001b[0m",
      "\u001b[0;31mKeyError\u001b[0m: 'USA'"
     ]
    }
   ],
   "source": [
    "diccionario['USA']"
   ]
  },
  {
   "cell_type": "markdown",
   "metadata": {},
   "source": [
    "#### Agregar un nuevo valor"
   ]
  },
  {
   "cell_type": "code",
   "execution_count": 8,
   "metadata": {},
   "outputs": [],
   "source": [
    "diccionario['USA'] = \"Estados Unidos\""
   ]
  },
  {
   "cell_type": "code",
   "execution_count": 9,
   "metadata": {},
   "outputs": [
    {
     "data": {
      "text/plain": [
       "'Estados Unidos'"
      ]
     },
     "execution_count": 9,
     "metadata": {},
     "output_type": "execute_result"
    }
   ],
   "source": [
    "diccionario['USA']"
   ]
  },
  {
   "cell_type": "markdown",
   "metadata": {},
   "source": [
    "#### Reemplazar/Editar un valor"
   ]
  },
  {
   "cell_type": "code",
   "execution_count": 10,
   "metadata": {},
   "outputs": [
    {
     "data": {
      "text/plain": [
       "'México'"
      ]
     },
     "execution_count": 10,
     "metadata": {},
     "output_type": "execute_result"
    }
   ],
   "source": [
    "diccionario['MEX']"
   ]
  },
  {
   "cell_type": "code",
   "execution_count": 11,
   "metadata": {},
   "outputs": [
    {
     "data": {
      "text/plain": [
       "'Estados Unidos Mexicanos'"
      ]
     },
     "execution_count": 11,
     "metadata": {},
     "output_type": "execute_result"
    }
   ],
   "source": [
    "diccionario['MEX'] = \"Estados Unidos Mexicanos\"\n",
    "diccionario['MEX']"
   ]
  },
  {
   "cell_type": "markdown",
   "metadata": {},
   "source": [
    "#### Eliminar una llave y su valor"
   ]
  },
  {
   "cell_type": "code",
   "execution_count": 12,
   "metadata": {},
   "outputs": [],
   "source": [
    "del diccionario['MEX']"
   ]
  },
  {
   "cell_type": "code",
   "execution_count": 13,
   "metadata": {},
   "outputs": [
    {
     "ename": "KeyError",
     "evalue": "'MEX'",
     "output_type": "error",
     "traceback": [
      "\u001b[0;31m---------------------------------------------------------------------------\u001b[0m",
      "\u001b[0;31mKeyError\u001b[0m                                  Traceback (most recent call last)",
      "\u001b[0;32m<ipython-input-13-a9cf362df2a7>\u001b[0m in \u001b[0;36m<module>\u001b[0;34m\u001b[0m\n\u001b[0;32m----> 1\u001b[0;31m \u001b[0mdiccionario\u001b[0m\u001b[0;34m[\u001b[0m\u001b[0;34m'MEX'\u001b[0m\u001b[0;34m]\u001b[0m\u001b[0;34m\u001b[0m\u001b[0;34m\u001b[0m\u001b[0m\n\u001b[0m",
      "\u001b[0;31mKeyError\u001b[0m: 'MEX'"
     ]
    }
   ],
   "source": [
    "diccionario['MEX']"
   ]
  },
  {
   "cell_type": "markdown",
   "metadata": {},
   "source": [
    "#### Longitud (tamaño) del diccionario"
   ]
  },
  {
   "cell_type": "code",
   "execution_count": 14,
   "metadata": {},
   "outputs": [
    {
     "data": {
      "text/plain": [
       "6"
      ]
     },
     "execution_count": 14,
     "metadata": {},
     "output_type": "execute_result"
    }
   ],
   "source": [
    "len(diccionario)"
   ]
  },
  {
   "cell_type": "markdown",
   "metadata": {},
   "source": [
    "#### Checar si el diccionario contiene una llave"
   ]
  },
  {
   "cell_type": "code",
   "execution_count": 15,
   "metadata": {},
   "outputs": [
    {
     "data": {
      "text/plain": [
       "False"
      ]
     },
     "execution_count": 15,
     "metadata": {},
     "output_type": "execute_result"
    }
   ],
   "source": [
    "'MEX' in diccionario"
   ]
  },
  {
   "cell_type": "code",
   "execution_count": 16,
   "metadata": {},
   "outputs": [
    {
     "data": {
      "text/plain": [
       "True"
      ]
     },
     "execution_count": 16,
     "metadata": {},
     "output_type": "execute_result"
    }
   ],
   "source": [
    "'USA' in diccionario"
   ]
  },
  {
   "cell_type": "markdown",
   "metadata": {},
   "source": [
    "#### Ver todas las llaves"
   ]
  },
  {
   "cell_type": "code",
   "execution_count": 17,
   "metadata": {},
   "outputs": [
    {
     "data": {
      "text/plain": [
       "dict_keys(['AUS', 'COL', 'DNK', 'PAK', 'RUS', 'USA'])"
      ]
     },
     "execution_count": 17,
     "metadata": {},
     "output_type": "execute_result"
    }
   ],
   "source": [
    "diccionario.keys()"
   ]
  },
  {
   "cell_type": "markdown",
   "metadata": {},
   "source": [
    "## Lista de diccionarios\n",
    "\n",
    "Podemos usar un diccionario para estructurar entidades fácilmente. Pensemos en una persona: una persona tiene nombre, apellidos, edad, estado civil y ocupación. Podemos _modelar_ esta entidad con un diccionario\n",
    "\n",
    "~~~~python\n",
    "{\n",
    "    \"nombre\" : \"Andrés Manuel\",\n",
    "    \"apellidos\" : \"López Obrador\",\n",
    "    \"edad\": 65,\n",
    "    \"estado_civil\" : \"casado\"\n",
    "    \"ocupacion\" : \"Presidente de México\"\n",
    "}\n",
    "~~~~"
   ]
  },
  {
   "cell_type": "markdown",
   "metadata": {},
   "source": [
    "En Python los objetos de una lista son arbitrarios... entonces podemos 'meter' un diccionario a una lista. Imaginen este escenario:\n",
    "~~~~python\n",
    "lista = [dicc1, dicc2, dicc3, dicc4, ..., diccN]\n",
    "~~~~\n",
    "\n",
    "dicc1 a diccN podrían ser personas (o cualquier entidad) como lo definimos arriba\n",
    "~~~~python\n",
    "personas = [persona1, persona2, persona3, persona4, ..., personaN]\n",
    "~~~~"
   ]
  },
  {
   "cell_type": "code",
   "execution_count": 19,
   "metadata": {},
   "outputs": [],
   "source": [
    "persona1 = {\n",
    "    \"nombre\" : \"Andrés Manuel\",\n",
    "    \"apellidos\" : \"López Obrador\",\n",
    "    \"edad\": 65,\n",
    "    \"estado_civil\" : \"casado\",\n",
    "    \"ocupacion\" : \"Presidente de México\"\n",
    "}\n",
    "persona2 = {\n",
    "    \"nombre\" : \"Gerardo\",\n",
    "    \"apellidos\" : \"Mathus\",\n",
    "    \"edad\": 25,\n",
    "    \"estado_civil\" : \"Soltero\",\n",
    "    \"ocupacion\" : \"Arquitecto de Software\"\n",
    "}\n",
    "persona3 = {\n",
    "    \"nombre\" : \"Alejandra\",\n",
    "    \"apellidos\" : \"Gómez Sandoval\",\n",
    "    \"edad\": 24,\n",
    "    \"estado_civil\" : \"soltera\",\n",
    "    \"ocupacion\" : \"Nutrióloga\"\n",
    "}"
   ]
  },
  {
   "cell_type": "code",
   "execution_count": 20,
   "metadata": {},
   "outputs": [
    {
     "data": {
      "text/plain": [
       "'Alejandra'"
      ]
     },
     "execution_count": 20,
     "metadata": {},
     "output_type": "execute_result"
    }
   ],
   "source": [
    "persona3['nombre']"
   ]
  },
  {
   "cell_type": "code",
   "execution_count": 21,
   "metadata": {},
   "outputs": [],
   "source": [
    "#Ahora agregamos estos diccionarios a una lista\n",
    "personas = [persona1, persona2, persona3]"
   ]
  },
  {
   "cell_type": "code",
   "execution_count": 22,
   "metadata": {},
   "outputs": [
    {
     "data": {
      "text/plain": [
       "{'nombre': 'Andrés Manuel',\n",
       " 'apellidos': 'López Obrador',\n",
       " 'edad': 65,\n",
       " 'estado_civil': 'casado',\n",
       " 'ocupacion': 'Presidente de México'}"
      ]
     },
     "execution_count": 22,
     "metadata": {},
     "output_type": "execute_result"
    }
   ],
   "source": [
    "personas[0]"
   ]
  },
  {
   "cell_type": "code",
   "execution_count": 23,
   "metadata": {},
   "outputs": [
    {
     "data": {
      "text/plain": [
       "{'nombre': 'Gerardo',\n",
       " 'apellidos': 'Mathus',\n",
       " 'edad': 25,\n",
       " 'estado_civil': 'Soltero',\n",
       " 'ocupacion': 'Arquitecto de Software'}"
      ]
     },
     "execution_count": 23,
     "metadata": {},
     "output_type": "execute_result"
    }
   ],
   "source": [
    "personas[1]"
   ]
  },
  {
   "cell_type": "code",
   "execution_count": 24,
   "metadata": {},
   "outputs": [
    {
     "data": {
      "text/plain": [
       "{'nombre': 'Alejandra',\n",
       " 'apellidos': 'Gómez Sandoval',\n",
       " 'edad': 24,\n",
       " 'estado_civil': 'soltera',\n",
       " 'ocupacion': 'Nutrióloga'}"
      ]
     },
     "execution_count": 24,
     "metadata": {},
     "output_type": "execute_result"
    }
   ],
   "source": [
    "personas[2]"
   ]
  },
  {
   "cell_type": "markdown",
   "metadata": {},
   "source": [
    "#### Obtener el nombre y la edad de la persona en el índice 2 de la lista"
   ]
  },
  {
   "cell_type": "code",
   "execution_count": 25,
   "metadata": {},
   "outputs": [
    {
     "name": "stdout",
     "output_type": "stream",
     "text": [
      "Nombre: Alejandra \n",
      "Edad: 24\n"
     ]
    }
   ],
   "source": [
    "print(\"Nombre:\", personas[2]['nombre'], \"\\nEdad:\", personas[2]['edad'])"
   ]
  },
  {
   "cell_type": "markdown",
   "metadata": {},
   "source": [
    "#### Un pequeño truco\n",
    "Todo string tiene (además de muchas otras) un método `format()` que permite formatear el texto a formar"
   ]
  },
  {
   "cell_type": "code",
   "execution_count": 28,
   "metadata": {},
   "outputs": [],
   "source": [
    "persona = personas[2]\n",
    "#la variable persona ahora es el diccionario que corresponder a Alejandra Gomez Sandoval\n",
    "mi_string = \"Nombre: {} {}\\nEdad: {} años\".format(persona['nombre'], persona['apellidos'], persona['edad'])"
   ]
  },
  {
   "cell_type": "code",
   "execution_count": 29,
   "metadata": {},
   "outputs": [
    {
     "name": "stdout",
     "output_type": "stream",
     "text": [
      "Nombre: Alejandra Gómez Sandoval\n",
      "Edad: 24 años\n"
     ]
    }
   ],
   "source": [
    "print(mi_string)"
   ]
  },
  {
   "cell_type": "markdown",
   "metadata": {},
   "source": [
    "Las llaves adentro del string que famos a formatear son `placeholders` o `indicadores`. Estos los reemplazamos después con los argumentos que le pasamos al método `format()`"
   ]
  },
  {
   "cell_type": "code",
   "execution_count": 40,
   "metadata": {},
   "outputs": [],
   "source": [
    "s = \"{}----------->{}---------->{}\".format(\"primer argumento\", persona['ocupacion'], \"el último argumento\")"
   ]
  },
  {
   "cell_type": "code",
   "execution_count": 41,
   "metadata": {},
   "outputs": [
    {
     "data": {
      "text/plain": [
       "'primer argumento----------->Nutrióloga---------->el último argumento'"
      ]
     },
     "execution_count": 41,
     "metadata": {},
     "output_type": "execute_result"
    }
   ],
   "source": [
    "s"
   ]
  },
  {
   "cell_type": "code",
   "execution_count": null,
   "metadata": {},
   "outputs": [],
   "source": []
  }
 ],
 "metadata": {
  "kernelspec": {
   "display_name": "Python 3",
   "language": "python",
   "name": "python3"
  },
  "language_info": {
   "codemirror_mode": {
    "name": "ipython",
    "version": 3
   },
   "file_extension": ".py",
   "mimetype": "text/x-python",
   "name": "python",
   "nbconvert_exporter": "python",
   "pygments_lexer": "ipython3",
   "version": "3.7.4"
  }
 },
 "nbformat": 4,
 "nbformat_minor": 2
}
